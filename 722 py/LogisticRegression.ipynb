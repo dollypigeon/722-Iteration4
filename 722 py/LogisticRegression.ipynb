{
 "cells": [
  {
   "cell_type": "code",
   "execution_count": 1,
   "metadata": {},
   "outputs": [],
   "source": [
    "import findspark\n",
    "findspark.init('/home/ubuntu/spark-2.1.1-bin-hadoop2.7')\n",
    "import pyspark\n",
    "from pyspark.sql import SparkSession\n",
    "spark = SparkSession.builder.appName('OlympicAthletesPrediction').getOrCreate()"
   ]
  },
  {
   "cell_type": "code",
   "execution_count": 2,
   "metadata": {},
   "outputs": [],
   "source": [
    "df = spark.read.csv('/home/ubuntu/722 iteration4/athletes_Olympic.csv',header=True,inferSchema=True)"
   ]
  },
  {
   "cell_type": "code",
   "execution_count": 3,
   "metadata": {
    "collapsed": true
   },
   "outputs": [
    {
     "name": "stdout",
     "output_type": "stream",
     "text": [
      "+---+--------------------+---+---+------+------+--------------+---+-----------+----+------+-----------+--------------------+--------------------+-----+---------+-------+----------+\n",
      "| ID|                Name|Sex|Age|Height|Weight|          Team|NOC|      Games|Year|Season|       City|               Sport|               Event|Medal|MedalCode|SexCode|SeasonCode|\n",
      "+---+--------------------+---+---+------+------+--------------+---+-----------+----+------+-----------+--------------------+--------------------+-----+---------+-------+----------+\n",
      "|  1|           A Dijiang|  M| 24|   180|    80|         China|CHN|1992 Summer|1992|Summer|  Barcelona|          Basketball|Basketball Men's ...|   NA|        4|      2|         1|\n",
      "|  2|            A Lamusi|  M| 23|   170|    60|         China|CHN|2012 Summer|2012|Summer|     London|                Judo|Judo Men's Extra-...|   NA|        4|      2|         1|\n",
      "|  3| Gunnar Nielsen Aaby|  M| 24|      |      |       Denmark|DEN|1920 Summer|1920|Summer|  Antwerpen|            Football|Football Men's Fo...|   NA|        4|      2|         1|\n",
      "|  4|Edgar Lindenau Aabye|  M| 34|      |      |Denmark/Sweden|DEN|1900 Summer|1900|Summer|      Paris|          Tug-Of-War|Tug-Of-War Men's ...| Gold|        1|      2|         1|\n",
      "|  5|Christine Jacoba ...|  F| 21|   185|    82|   Netherlands|NED|1988 Winter|1988|Winter|    Calgary|       Speed Skating|Speed Skating Wom...|   NA|        4|      1|         2|\n",
      "|  5|Christine Jacoba ...|  F| 21|   185|    82|   Netherlands|NED|1988 Winter|1988|Winter|    Calgary|       Speed Skating|Speed Skating Wom...|   NA|        4|      1|         2|\n",
      "|  5|Christine Jacoba ...|  F| 25|   185|    82|   Netherlands|NED|1992 Winter|1992|Winter|Albertville|       Speed Skating|Speed Skating Wom...|   NA|        4|      1|         2|\n",
      "|  5|Christine Jacoba ...|  F| 25|   185|    82|   Netherlands|NED|1992 Winter|1992|Winter|Albertville|       Speed Skating|Speed Skating Wom...|   NA|        4|      1|         2|\n",
      "|  5|Christine Jacoba ...|  F| 27|   185|    82|   Netherlands|NED|1994 Winter|1994|Winter|Lillehammer|       Speed Skating|Speed Skating Wom...|   NA|        4|      1|         2|\n",
      "|  5|Christine Jacoba ...|  F| 27|   185|    82|   Netherlands|NED|1994 Winter|1994|Winter|Lillehammer|       Speed Skating|Speed Skating Wom...|   NA|        4|      1|         2|\n",
      "|  6|     Per Knut Aaland|  M| 31|   188|    75| United States|USA|1992 Winter|1992|Winter|Albertville|Cross Country Skiing|Cross Country Ski...|   NA|        4|      2|         2|\n",
      "|  6|     Per Knut Aaland|  M| 31|   188|    75| United States|USA|1992 Winter|1992|Winter|Albertville|Cross Country Skiing|Cross Country Ski...|   NA|        4|      2|         2|\n",
      "|  6|     Per Knut Aaland|  M| 31|   188|    75| United States|USA|1992 Winter|1992|Winter|Albertville|Cross Country Skiing|Cross Country Ski...|   NA|        4|      2|         2|\n",
      "|  6|     Per Knut Aaland|  M| 31|   188|    75| United States|USA|1992 Winter|1992|Winter|Albertville|Cross Country Skiing|Cross Country Ski...|   NA|        4|      2|         2|\n",
      "|  6|     Per Knut Aaland|  M| 33|   188|    75| United States|USA|1994 Winter|1994|Winter|Lillehammer|Cross Country Skiing|Cross Country Ski...|   NA|        4|      2|         2|\n",
      "|  6|     Per Knut Aaland|  M| 33|   188|    75| United States|USA|1994 Winter|1994|Winter|Lillehammer|Cross Country Skiing|Cross Country Ski...|   NA|        4|      2|         2|\n",
      "|  6|     Per Knut Aaland|  M| 33|   188|    75| United States|USA|1994 Winter|1994|Winter|Lillehammer|Cross Country Skiing|Cross Country Ski...|   NA|        4|      2|         2|\n",
      "|  6|     Per Knut Aaland|  M| 33|   188|    75| United States|USA|1994 Winter|1994|Winter|Lillehammer|Cross Country Skiing|Cross Country Ski...|   NA|        4|      2|         2|\n",
      "|  7|        John Aalberg|  M| 31|   183|    72| United States|USA|1992 Winter|1992|Winter|Albertville|Cross Country Skiing|Cross Country Ski...|   NA|        4|      2|         2|\n",
      "|  7|        John Aalberg|  M| 31|   183|    72| United States|USA|1992 Winter|1992|Winter|Albertville|Cross Country Skiing|Cross Country Ski...|   NA|        4|      2|         2|\n",
      "+---+--------------------+---+---+------+------+--------------+---+-----------+----+------+-----------+--------------------+--------------------+-----+---------+-------+----------+\n",
      "only showing top 20 rows\n",
      "\n",
      "Total rows: 271116\n"
     ]
    }
   ],
   "source": [
    "df.show()\n",
    "print(\"Total rows:\", df.count())"
   ]
  },
  {
   "cell_type": "code",
   "execution_count": 4,
   "metadata": {
    "collapsed": true
   },
   "outputs": [
    {
     "name": "stdout",
     "output_type": "stream",
     "text": [
      "+-------+-----------------+--------------------+------------+-----------------+------------------+------------------+------------------+--------+-----------+------------------+------------------+-----------------+-----------+--------------------+--------------------+--------------------+-------------------+-------------------+\n",
      "|summary|               ID|                Name|         Sex|              Age|            Height|            Weight|              Team|     NOC|      Games|              Year|            Season|             City|      Sport|               Event|               Medal|           MedalCode|            SexCode|         SeasonCode|\n",
      "+-------+-----------------+--------------------+------------+-----------------+------------------+------------------+------------------+--------+-----------+------------------+------------------+-----------------+-----------+--------------------+--------------------+--------------------+-------------------+-------------------+\n",
      "|  count|           271116|              271116|      271116|           271116|            271116|            271116|            271116|  271116|     271116|            271116|            271116|           271116|     271116|              271116|              271116|              271116|             271116|             271116|\n",
      "|   mean|68248.95439590434|                null|        null|25.55966371742454|174.85806925299607|  70.9476661272742| 75.17248459958932|    57.0|       null|1978.4196078286368| 1962.111111111111|1937.142857142857|       null|                null|                null|   3.707450368469511|  1.728736412291735| 1.1805131382876701|\n",
      "| stddev| 39022.2863447561|                null|        null|6.394817276132616| 13.47956697799403|15.261773430368828|18.482641800600078|     NaN|       null|29.877750074318037|24.716004305687537|  25.893554998806|       null|                null|                null|  0.7730457300087128|0.45582856324276966|0.38471087878511767|\n",
      "|    min|                1| Eleonora Margari...| -Allinger)\"|                 |                  |                  |                  |        |1896 Summer|              1896|              1900|             1900|Aeronautics|Aeronautics Mixed...|Alpine Skiing Men...|                   1|                  1|                  1|\n",
      "|    max|           135571|            zzet nce|           M|                M|                 F|                99|              rn-2|Zimbabwe|        ZIM|               USA|            Winter|           Winter|  Wrestling|Wrestling Women's...|Wrestling Men's W...|Tennis Women's Si...|             Silver|                  4|\n",
      "+-------+-----------------+--------------------+------------+-----------------+------------------+------------------+------------------+--------+-----------+------------------+------------------+-----------------+-----------+--------------------+--------------------+--------------------+-------------------+-------------------+\n",
      "\n"
     ]
    }
   ],
   "source": [
    "df.describe().show()"
   ]
  },
  {
   "cell_type": "code",
   "execution_count": 5,
   "metadata": {
    "collapsed": true
   },
   "outputs": [
    {
     "name": "stdout",
     "output_type": "stream",
     "text": [
      "+-------+-----------------+------------------+------------------+\n",
      "|summary|              Age|            Height|            Weight|\n",
      "+-------+-----------------+------------------+------------------+\n",
      "|  count|           271116|            271116|            271116|\n",
      "|   mean|25.55966371742454|174.85806925299607|  70.9476661272742|\n",
      "| stddev|6.394817276132616| 13.47956697799403|15.261773430368828|\n",
      "|    min|                 |                  |                  |\n",
      "|    max|                M|                 F|                99|\n",
      "+-------+-----------------+------------------+------------------+\n",
      "\n"
     ]
    }
   ],
   "source": [
    "df.select('Age', 'Height', 'Weight').describe().show()"
   ]
  },
  {
   "cell_type": "code",
   "execution_count": 6,
   "metadata": {
    "collapsed": true
   },
   "outputs": [
    {
     "name": "stdout",
     "output_type": "stream",
     "text": [
      "+----+--------------------+---+---+------+------+-------------+---+-----------+----+------+--------------+----------+--------------------+-----+---------+-------+----------+\n",
      "|  ID|                Name|Sex|Age|Height|Weight|         Team|NOC|      Games|Year|Season|          City|     Sport|               Event|Medal|MedalCode|SexCode|SeasonCode|\n",
      "+----+--------------------+---+---+------+------+-------------+---+-----------+----+------+--------------+----------+--------------------+-----+---------+-------+----------+\n",
      "|  21|Ragnhild Margreth...|  F| 27|   163|      |       Norway|NOR|2008 Summer|2008|Summer|       Beijing|  Handball|Handball Women's ...| Gold|        1|      1|         1|\n",
      "| 150|Margaret Ives Abb...|  F| 23|      |      |United States|USA|1900 Summer|1900|Summer|         Paris|      Golf|Golf Women's Indi...| Gold|        1|      1|         1|\n",
      "| 832|Nicola Virginia A...|  F| 29|   164|    51|Great Britain|GBR|2012 Summer|2012|Summer|        London|    Boxing|Boxing Women's Fl...| Gold|        1|      1|         1|\n",
      "| 832|Nicola Virginia A...|  F| 33|   164|    51|Great Britain|GBR|2016 Summer|2016|Summer|Rio de Janeiro|    Boxing|Boxing Women's Fl...| Gold|        1|      1|         1|\n",
      "| 846|Valerie Kasanita ...|  F| 23|   193|   120|  New Zealand|NZL|2008 Summer|2008|Summer|       Beijing| Athletics|Athletics Women's...| Gold|        1|      1|         1|\n",
      "| 846|Valerie Kasanita ...|  F| 27|   193|   120|  New Zealand|NZL|2012 Summer|2012|Summer|        London| Athletics|Athletics Women's...| Gold|        1|      1|         1|\n",
      "| 925|Adenzia Aparecida...|  F| 25|   187|    65|       Brazil|BRA|2012 Summer|2012|Summer|        London|Volleyball|Volleyball Women'...| Gold|        1|      1|         1|\n",
      "| 980|\"Rebecca \"\"Becky\"...|  F| 19|   179|    70|Great Britain|GBR|2008 Summer|2008|Summer|       Beijing|  Swimming|Swimming Women's ...| Gold|        1|      1|         1|\n",
      "| 980|\"Rebecca \"\"Becky\"...|  F| 19|   179|    70|Great Britain|GBR|2008 Summer|2008|Summer|       Beijing|  Swimming|Swimming Women's ...| Gold|        1|      1|         1|\n",
      "|1109|Lavinia Agache (-...|  F| 16|   148|    40|      Romania|ROU|1984 Summer|1984|Summer|   Los Angeles|Gymnastics|Gymnastics Women'...| Gold|        1|      1|         1|\n",
      "|1169|    Marilyn Agliotti|  F| 29|   172|    58|  Netherlands|NED|2008 Summer|2008|Summer|       Beijing|    Hockey|Hockey Women's Ho...| Gold|        1|      1|         1|\n",
      "|1169|    Marilyn Agliotti|  F| 33|   172|    58|  Netherlands|NED|2012 Summer|2012|Summer|        London|    Hockey|Hockey Women's Ho...| Gold|        1|      1|         1|\n",
      "|1181|Meghan Christina ...|  F| 18|   168|    67|       Canada|CAN|2006 Winter|2006|Winter|        Torino|Ice Hockey|Ice Hockey Women'...| Gold|        1|      1|         2|\n",
      "|1181|Meghan Christina ...|  F| 23|   168|    67|       Canada|CAN|2010 Winter|2010|Winter|     Vancouver|Ice Hockey|Ice Hockey Women'...| Gold|        1|      1|         2|\n",
      "|1181|Meghan Christina ...|  F| 26|   168|    67|       Canada|CAN|2014 Winter|2014|Winter|         Sochi|Ice Hockey|Ice Hockey Women'...| Gold|        1|      1|         2|\n",
      "|1191|Judit goston-Mend...|  F| 27|   164|    62|      Hungary|HUN|1964 Summer|1964|Summer|         Tokyo|   Fencing|Fencing Women's F...| Gold|        1|      1|         1|\n",
      "|1211|\"Estella \"\"Stella...|  F| 19|      |      |  Netherlands|NED|1928 Summer|1928|Summer|     Amsterdam|Gymnastics|Gymnastics Women'...| Gold|        1|      1|         1|\n",
      "|1221|\"Taismary \"\"Tai\"\"...|  F| 23|   175|    70|         Cuba|CUB|2000 Summer|2000|Summer|        Sydney|Volleyball|Volleyball Women'...| Gold|        1|      1|         1|\n",
      "|1380|\"Christine M. \"\"C...|  F| 22|   172|    52|United States|USA|1992 Summer|1992|Summer|     Barcelona|  Swimming|Swimming Women's ...| Gold|        1|      1|         1|\n",
      "|1380|\"Christine M. \"\"C...|  F| 22|   172|    52|United States|USA|1992 Summer|1992|Summer|     Barcelona|  Swimming|Swimming Women's ...| Gold|        1|      1|         1|\n",
      "+----+--------------------+---+---+------+------+-------------+---+-----------+----+------+--------------+----------+--------------------+-----+---------+-------+----------+\n",
      "only showing top 20 rows\n",
      "\n"
     ]
    }
   ],
   "source": [
    "df.filter(\"Sex='F'AND Medal='Gold'\").show()"
   ]
  },
  {
   "cell_type": "code",
   "execution_count": 7,
   "metadata": {
    "collapsed": true
   },
   "outputs": [
    {
     "name": "stdout",
     "output_type": "stream",
     "text": [
      "Total data points: 271116\n"
     ]
    }
   ],
   "source": [
    "print(\"Total data points:\", df.count())"
   ]
  },
  {
   "cell_type": "code",
   "execution_count": 8,
   "metadata": {
    "collapsed": true
   },
   "outputs": [
    {
     "name": "stdout",
     "output_type": "stream",
     "text": [
      "+---+---+\n",
      "| ID|Age|\n",
      "+---+---+\n",
      "| 54|   |\n",
      "| 58|   |\n",
      "| 58|   |\n",
      "| 66|   |\n",
      "|102|   |\n",
      "|102|   |\n",
      "|133|   |\n",
      "|139|   |\n",
      "|163|   |\n",
      "|163|   |\n",
      "|163|   |\n",
      "|163|   |\n",
      "|163|   |\n",
      "|163|   |\n",
      "|163|   |\n",
      "|163|   |\n",
      "|167|   |\n",
      "|173|   |\n",
      "|176|   |\n",
      "|179|   |\n",
      "+---+---+\n",
      "only showing top 20 rows\n",
      "\n",
      "null values in Age: 9472\n"
     ]
    }
   ],
   "source": [
    "df.filter('Age=\" \"').select(\"ID\",\"Age\").show()\n",
    "print(\"null values in Age:\", df.filter('Age=\" \"').count())"
   ]
  },
  {
   "cell_type": "code",
   "execution_count": 9,
   "metadata": {
    "collapsed": true
   },
   "outputs": [
    {
     "name": "stdout",
     "output_type": "stream",
     "text": [
      "+---+------+\n",
      "| ID|Height|\n",
      "+---+------+\n",
      "|  3|      |\n",
      "|  4|      |\n",
      "| 10|      |\n",
      "| 15|      |\n",
      "| 15|      |\n",
      "| 15|      |\n",
      "| 15|      |\n",
      "| 15|      |\n",
      "| 19|      |\n",
      "| 24|      |\n",
      "| 24|      |\n",
      "| 24|      |\n",
      "| 25|      |\n",
      "| 27|      |\n",
      "| 29|      |\n",
      "| 32|      |\n",
      "| 38|      |\n",
      "| 39|      |\n",
      "| 39|      |\n",
      "| 39|      |\n",
      "+---+------+\n",
      "only showing top 20 rows\n",
      "\n",
      "null values in Height: 59999\n"
     ]
    }
   ],
   "source": [
    "df.filter('Height=\" \"').select(\"ID\",\"Height\").show()\n",
    "print(\"null values in Height:\", df.filter('Height=\" \"').count())"
   ]
  },
  {
   "cell_type": "code",
   "execution_count": 10,
   "metadata": {
    "collapsed": true
   },
   "outputs": [
    {
     "name": "stdout",
     "output_type": "stream",
     "text": [
      "+---+------+\n",
      "| ID|Weight|\n",
      "+---+------+\n",
      "|  3|      |\n",
      "|  4|      |\n",
      "|  8|      |\n",
      "|  8|      |\n",
      "| 10|      |\n",
      "| 15|      |\n",
      "| 15|      |\n",
      "| 15|      |\n",
      "| 15|      |\n",
      "| 15|      |\n",
      "| 19|      |\n",
      "| 21|      |\n",
      "| 24|      |\n",
      "| 24|      |\n",
      "| 24|      |\n",
      "| 25|      |\n",
      "| 27|      |\n",
      "| 29|      |\n",
      "| 32|      |\n",
      "| 38|      |\n",
      "+---+------+\n",
      "only showing top 20 rows\n",
      "\n",
      "null values in Weight: 62857\n"
     ]
    }
   ],
   "source": [
    "df.filter('Weight=\" \"').select(\"ID\",\"Weight\").show()\n",
    "print(\"null values in Weight:\", df.filter('Weight=\" \"').count())"
   ]
  },
  {
   "cell_type": "code",
   "execution_count": 11,
   "metadata": {
    "collapsed": true
   },
   "outputs": [
    {
     "name": "stdout",
     "output_type": "stream",
     "text": [
      "+---+--------------------+---+---+------+------+--------------+---+-----------+----+------+------------+----------------+--------------------+------+---------+-------+----------+\n",
      "| ID|                Name|Sex|Age|Height|Weight|          Team|NOC|      Games|Year|Season|        City|           Sport|               Event| Medal|MedalCode|SexCode|SeasonCode|\n",
      "+---+--------------------+---+---+------+------+--------------+---+-----------+----+------+------------+----------------+--------------------+------+---------+-------+----------+\n",
      "|  3| Gunnar Nielsen Aaby|  M| 24|      |      |       Denmark|DEN|1920 Summer|1920|Summer|   Antwerpen|        Football|Football Men's Fo...|    NA|        4|      2|         1|\n",
      "|  4|Edgar Lindenau Aabye|  M| 34|      |      |Denmark/Sweden|DEN|1900 Summer|1900|Summer|       Paris|      Tug-Of-War|Tug-Of-War Men's ...|  Gold|        1|      2|         1|\n",
      "|  8|\"Cornelia \"\"Cor\"\"...|  F| 18|   168|      |   Netherlands|NED|1932 Summer|1932|Summer| Los Angeles|       Athletics|Athletics Women's...|    NA|        4|      1|         1|\n",
      "|  8|\"Cornelia \"\"Cor\"\"...|  F| 18|   168|      |   Netherlands|NED|1932 Summer|1932|Summer| Los Angeles|       Athletics|Athletics Women's...|    NA|        4|      1|         1|\n",
      "| 10|\"Einar Ferdinand ...|  M| 26|      |      |       Finland|FIN|1952 Summer|1952|Summer|    Helsinki|        Swimming|Swimming Men's 40...|    NA|        4|      2|         1|\n",
      "| 15|Arvo Ossian Aaltonen|  M| 22|      |      |       Finland|FIN|1912 Summer|1912|Summer|   Stockholm|        Swimming|Swimming Men's 20...|    NA|        4|      2|         1|\n",
      "| 15|Arvo Ossian Aaltonen|  M| 22|      |      |       Finland|FIN|1912 Summer|1912|Summer|   Stockholm|        Swimming|Swimming Men's 40...|    NA|        4|      2|         1|\n",
      "| 15|Arvo Ossian Aaltonen|  M| 30|      |      |       Finland|FIN|1920 Summer|1920|Summer|   Antwerpen|        Swimming|Swimming Men's 20...|Bronze|        3|      2|         1|\n",
      "| 15|Arvo Ossian Aaltonen|  M| 30|      |      |       Finland|FIN|1920 Summer|1920|Summer|   Antwerpen|        Swimming|Swimming Men's 40...|Bronze|        3|      2|         1|\n",
      "| 15|Arvo Ossian Aaltonen|  M| 34|      |      |       Finland|FIN|1924 Summer|1924|Summer|       Paris|        Swimming|Swimming Men's 20...|    NA|        4|      2|         1|\n",
      "| 19|Win Valdemar Aalt...|  M| 54|      |      |       Finland|FIN|1948 Summer|1948|Summer|      London|Art Competitions|Art Competitions ...|    NA|        4|      2|         1|\n",
      "| 21|Ragnhild Margreth...|  F| 27|   163|      |        Norway|NOR|2008 Summer|2008|Summer|     Beijing|        Handball|Handball Women's ...|  Gold|        1|      1|         1|\n",
      "| 24|    Nils Egil Aaness|  M| 24|      |      |        Norway|NOR|1960 Winter|1960|Winter|Squaw Valley|   Speed Skating|Speed Skating Men...|    NA|        4|      2|         2|\n",
      "| 24|    Nils Egil Aaness|  M| 24|      |      |        Norway|NOR|1960 Winter|1960|Winter|Squaw Valley|   Speed Skating|Speed Skating Men...|    NA|        4|      2|         2|\n",
      "| 24|    Nils Egil Aaness|  M| 27|      |      |        Norway|NOR|1964 Winter|1964|Winter|   Innsbruck|   Speed Skating|Speed Skating Men...|    NA|        4|      2|         2|\n",
      "| 25|    Alf Lied Aanning|  M| 24|      |      |        Norway|NOR|1920 Summer|1920|Summer|   Antwerpen|      Gymnastics|Gymnastics Men's ...|Silver|        2|      2|         1|\n",
      "| 27|       Johan Aantjes|  M| 26|      |      |   Netherlands|NED|1984 Summer|1984|Summer| Los Angeles|      Water Polo|Water Polo Men's ...|    NA|        4|      2|         1|\n",
      "| 29|Willemien Aardenburg|  F| 22|      |      |   Netherlands|NED|1988 Summer|1988|Summer|       Seoul|          Hockey|Hockey Women's Ho...|Bronze|        3|      1|         1|\n",
      "| 32|Olav Augunson Aarnes|  M| 23|      |      |        Norway|NOR|1912 Summer|1912|Summer|   Stockholm|       Athletics|Athletics Men's H...|    NA|        4|      2|         1|\n",
      "| 38|        Karl Jan Aas|  M| 20|      |      |        Norway|NOR|1920 Summer|1920|Summer|   Antwerpen|      Gymnastics|Gymnastics Men's ...|Silver|        2|      2|         1|\n",
      "+---+--------------------+---+---+------+------+--------------+---+-----------+----+------+------------+----------------+--------------------+------+---------+-------+----------+\n",
      "only showing top 20 rows\n",
      "\n",
      "Total rows: 64928\n"
     ]
    }
   ],
   "source": [
    "null_df=df.filter('Age=\" \" or Height=\" \" or Weight=\" \"')\n",
    "null_df.show()\n",
    "print(\"Total rows:\", null_df.count())"
   ]
  },
  {
   "cell_type": "code",
   "execution_count": 3,
   "metadata": {},
   "outputs": [],
   "source": [
    "df2 = spark.read.csv('/home/ubuntu/722 iteration4/noc_regions.csv',header=True,inferSchema=True)"
   ]
  },
  {
   "cell_type": "code",
   "execution_count": 4,
   "metadata": {
    "scrolled": false
   },
   "outputs": [
    {
     "name": "stdout",
     "output_type": "stream",
     "text": [
      "+---+---+------+------+---+------+-----+---------+-------+----------+\n",
      "|Sex|Age|Height|Weight|NOC|Season|Medal|MedalCode|SexCode|SeasonCode|\n",
      "+---+---+------+------+---+------+-----+---------+-------+----------+\n",
      "|  M| 24|   180|    80|CHN|Summer|   NA|        4|      2|         1|\n",
      "|  M| 23|   170|    60|CHN|Summer|   NA|        4|      2|         1|\n",
      "|  M| 24|      |      |DEN|Summer|   NA|        4|      2|         1|\n",
      "|  M| 34|      |      |DEN|Summer| Gold|        1|      2|         1|\n",
      "|  F| 21|   185|    82|NED|Winter|   NA|        4|      1|         2|\n",
      "|  F| 21|   185|    82|NED|Winter|   NA|        4|      1|         2|\n",
      "|  F| 25|   185|    82|NED|Winter|   NA|        4|      1|         2|\n",
      "|  F| 25|   185|    82|NED|Winter|   NA|        4|      1|         2|\n",
      "|  F| 27|   185|    82|NED|Winter|   NA|        4|      1|         2|\n",
      "|  F| 27|   185|    82|NED|Winter|   NA|        4|      1|         2|\n",
      "|  M| 31|   188|    75|USA|Winter|   NA|        4|      2|         2|\n",
      "|  M| 31|   188|    75|USA|Winter|   NA|        4|      2|         2|\n",
      "|  M| 31|   188|    75|USA|Winter|   NA|        4|      2|         2|\n",
      "|  M| 31|   188|    75|USA|Winter|   NA|        4|      2|         2|\n",
      "|  M| 33|   188|    75|USA|Winter|   NA|        4|      2|         2|\n",
      "|  M| 33|   188|    75|USA|Winter|   NA|        4|      2|         2|\n",
      "|  M| 33|   188|    75|USA|Winter|   NA|        4|      2|         2|\n",
      "|  M| 33|   188|    75|USA|Winter|   NA|        4|      2|         2|\n",
      "|  M| 31|   183|    72|USA|Winter|   NA|        4|      2|         2|\n",
      "|  M| 31|   183|    72|USA|Winter|   NA|        4|      2|         2|\n",
      "+---+---+------+------+---+------+-----+---------+-------+----------+\n",
      "only showing top 20 rows\n",
      "\n"
     ]
    }
   ],
   "source": [
    "df_new=df.select('Sex','Age','Height','Weight','NOC','Season','Medal','MedalCode','SexCode','SeasonCode')\n",
    "df_new.show()"
   ]
  },
  {
   "cell_type": "code",
   "execution_count": 5,
   "metadata": {},
   "outputs": [
    {
     "name": "stdout",
     "output_type": "stream",
     "text": [
      "+---+---+------+------+---+------+-----+---------+-------+----------+\n",
      "|Sex|Age|Height|Weight|NOC|Season|Medal|MedalCode|SexCode|SeasonCode|\n",
      "+---+---+------+------+---+------+-----+---------+-------+----------+\n",
      "|  M| 24|   180|    80|CHN|Summer|   NA|        4|      2|         1|\n",
      "|  M| 23|   170|    60|CHN|Summer|   NA|        4|      2|         1|\n",
      "|  F| 21|   185|    82|NED|Winter|   NA|        4|      1|         2|\n",
      "|  F| 21|   185|    82|NED|Winter|   NA|        4|      1|         2|\n",
      "|  F| 25|   185|    82|NED|Winter|   NA|        4|      1|         2|\n",
      "|  F| 25|   185|    82|NED|Winter|   NA|        4|      1|         2|\n",
      "|  F| 27|   185|    82|NED|Winter|   NA|        4|      1|         2|\n",
      "|  F| 27|   185|    82|NED|Winter|   NA|        4|      1|         2|\n",
      "|  M| 31|   188|    75|USA|Winter|   NA|        4|      2|         2|\n",
      "|  M| 31|   188|    75|USA|Winter|   NA|        4|      2|         2|\n",
      "|  M| 31|   188|    75|USA|Winter|   NA|        4|      2|         2|\n",
      "|  M| 31|   188|    75|USA|Winter|   NA|        4|      2|         2|\n",
      "|  M| 33|   188|    75|USA|Winter|   NA|        4|      2|         2|\n",
      "|  M| 33|   188|    75|USA|Winter|   NA|        4|      2|         2|\n",
      "|  M| 33|   188|    75|USA|Winter|   NA|        4|      2|         2|\n",
      "|  M| 33|   188|    75|USA|Winter|   NA|        4|      2|         2|\n",
      "|  M| 31|   183|    72|USA|Winter|   NA|        4|      2|         2|\n",
      "|  M| 31|   183|    72|USA|Winter|   NA|        4|      2|         2|\n",
      "|  M| 31|   183|    72|USA|Winter|   NA|        4|      2|         2|\n",
      "|  M| 31|   183|    72|USA|Winter|   NA|        4|      2|         2|\n",
      "+---+---+------+------+---+------+-----+---------+-------+----------+\n",
      "only showing top 20 rows\n",
      "\n",
      "Total rows: 206188\n"
     ]
    }
   ],
   "source": [
    "#drop rows with null values\n",
    "df_clean=df_new.filter('Age!=\" \" and Height!=\" \" and Weight!=\" \"')\n",
    "df_clean.show()\n",
    "print(\"Total rows:\", df_clean.count())"
   ]
  },
  {
   "cell_type": "code",
   "execution_count": 6,
   "metadata": {
    "scrolled": false
   },
   "outputs": [
    {
     "name": "stdout",
     "output_type": "stream",
     "text": [
      "+---+---+---+------+------+------+-----+---------+-------+----------+-----------+-----+\n",
      "|NOC|Sex|Age|Height|Weight|Season|Medal|MedalCode|SexCode|SeasonCode|     region|notes|\n",
      "+---+---+---+------+------+------+-----+---------+-------+----------+-----------+-----+\n",
      "|CHN|  M| 24|   180|    80|Summer|   NA|        4|      2|         1|      China| null|\n",
      "|CHN|  M| 23|   170|    60|Summer|   NA|        4|      2|         1|      China| null|\n",
      "|NED|  F| 21|   185|    82|Winter|   NA|        4|      1|         2|Netherlands| null|\n",
      "|NED|  F| 21|   185|    82|Winter|   NA|        4|      1|         2|Netherlands| null|\n",
      "|NED|  F| 25|   185|    82|Winter|   NA|        4|      1|         2|Netherlands| null|\n",
      "|NED|  F| 25|   185|    82|Winter|   NA|        4|      1|         2|Netherlands| null|\n",
      "|NED|  F| 27|   185|    82|Winter|   NA|        4|      1|         2|Netherlands| null|\n",
      "|NED|  F| 27|   185|    82|Winter|   NA|        4|      1|         2|Netherlands| null|\n",
      "|USA|  M| 31|   188|    75|Winter|   NA|        4|      2|         2|        USA| null|\n",
      "|USA|  M| 31|   188|    75|Winter|   NA|        4|      2|         2|        USA| null|\n",
      "|USA|  M| 31|   188|    75|Winter|   NA|        4|      2|         2|        USA| null|\n",
      "|USA|  M| 31|   188|    75|Winter|   NA|        4|      2|         2|        USA| null|\n",
      "|USA|  M| 33|   188|    75|Winter|   NA|        4|      2|         2|        USA| null|\n",
      "|USA|  M| 33|   188|    75|Winter|   NA|        4|      2|         2|        USA| null|\n",
      "|USA|  M| 33|   188|    75|Winter|   NA|        4|      2|         2|        USA| null|\n",
      "|USA|  M| 33|   188|    75|Winter|   NA|        4|      2|         2|        USA| null|\n",
      "|USA|  M| 31|   183|    72|Winter|   NA|        4|      2|         2|        USA| null|\n",
      "|USA|  M| 31|   183|    72|Winter|   NA|        4|      2|         2|        USA| null|\n",
      "|USA|  M| 31|   183|    72|Winter|   NA|        4|      2|         2|        USA| null|\n",
      "|USA|  M| 31|   183|    72|Winter|   NA|        4|      2|         2|        USA| null|\n",
      "+---+---+---+------+------+------+-----+---------+-------+----------+-----------+-----+\n",
      "only showing top 20 rows\n",
      "\n"
     ]
    }
   ],
   "source": [
    "df_join=df_clean.join(df2,['NOC'])\n",
    "df_join.show()"
   ]
  },
  {
   "cell_type": "code",
   "execution_count": 7,
   "metadata": {},
   "outputs": [
    {
     "name": "stdout",
     "output_type": "stream",
     "text": [
      "+---+---+------+------+-----------+------+-----+---------+-------+----------+\n",
      "|Sex|Age|Height|Weight|     region|Season|Medal|MedalCode|SexCode|SeasonCode|\n",
      "+---+---+------+------+-----------+------+-----+---------+-------+----------+\n",
      "|  M| 24|   180|    80|      China|Summer|   NA|        4|      2|         1|\n",
      "|  M| 23|   170|    60|      China|Summer|   NA|        4|      2|         1|\n",
      "|  F| 21|   185|    82|Netherlands|Winter|   NA|        4|      1|         2|\n",
      "|  F| 21|   185|    82|Netherlands|Winter|   NA|        4|      1|         2|\n",
      "|  F| 25|   185|    82|Netherlands|Winter|   NA|        4|      1|         2|\n",
      "|  F| 25|   185|    82|Netherlands|Winter|   NA|        4|      1|         2|\n",
      "|  F| 27|   185|    82|Netherlands|Winter|   NA|        4|      1|         2|\n",
      "|  F| 27|   185|    82|Netherlands|Winter|   NA|        4|      1|         2|\n",
      "|  M| 31|   188|    75|        USA|Winter|   NA|        4|      2|         2|\n",
      "|  M| 31|   188|    75|        USA|Winter|   NA|        4|      2|         2|\n",
      "|  M| 31|   188|    75|        USA|Winter|   NA|        4|      2|         2|\n",
      "|  M| 31|   188|    75|        USA|Winter|   NA|        4|      2|         2|\n",
      "|  M| 33|   188|    75|        USA|Winter|   NA|        4|      2|         2|\n",
      "|  M| 33|   188|    75|        USA|Winter|   NA|        4|      2|         2|\n",
      "|  M| 33|   188|    75|        USA|Winter|   NA|        4|      2|         2|\n",
      "|  M| 33|   188|    75|        USA|Winter|   NA|        4|      2|         2|\n",
      "|  M| 31|   183|    72|        USA|Winter|   NA|        4|      2|         2|\n",
      "|  M| 31|   183|    72|        USA|Winter|   NA|        4|      2|         2|\n",
      "|  M| 31|   183|    72|        USA|Winter|   NA|        4|      2|         2|\n",
      "|  M| 31|   183|    72|        USA|Winter|   NA|        4|      2|         2|\n",
      "+---+---+------+------+-----------+------+-----+---------+-------+----------+\n",
      "only showing top 20 rows\n",
      "\n"
     ]
    }
   ],
   "source": [
    "df_format=df_join.select('Sex','Age','Height','Weight','region','Season','Medal','MedalCode','SexCode','SeasonCode')\n",
    "df_format.show()"
   ]
  },
  {
   "cell_type": "code",
   "execution_count": 8,
   "metadata": {},
   "outputs": [
    {
     "name": "stdout",
     "output_type": "stream",
     "text": [
      "+---+---+------+------+-----------+------+-----+---------+-------+----------+----------+\n",
      "|Sex|Age|Height|Weight|     region|Season|Medal|MedalCode|SexCode|SeasonCode|MedalorNot|\n",
      "+---+---+------+------+-----------+------+-----+---------+-------+----------+----------+\n",
      "|  M| 24|   180|    80|      China|Summer|   NA|        4|      2|         1|         0|\n",
      "|  M| 23|   170|    60|      China|Summer|   NA|        4|      2|         1|         0|\n",
      "|  F| 21|   185|    82|Netherlands|Winter|   NA|        4|      1|         2|         0|\n",
      "|  F| 21|   185|    82|Netherlands|Winter|   NA|        4|      1|         2|         0|\n",
      "|  F| 25|   185|    82|Netherlands|Winter|   NA|        4|      1|         2|         0|\n",
      "|  F| 25|   185|    82|Netherlands|Winter|   NA|        4|      1|         2|         0|\n",
      "|  F| 27|   185|    82|Netherlands|Winter|   NA|        4|      1|         2|         0|\n",
      "|  F| 27|   185|    82|Netherlands|Winter|   NA|        4|      1|         2|         0|\n",
      "|  M| 31|   188|    75|        USA|Winter|   NA|        4|      2|         2|         0|\n",
      "|  M| 31|   188|    75|        USA|Winter|   NA|        4|      2|         2|         0|\n",
      "|  M| 31|   188|    75|        USA|Winter|   NA|        4|      2|         2|         0|\n",
      "|  M| 31|   188|    75|        USA|Winter|   NA|        4|      2|         2|         0|\n",
      "|  M| 33|   188|    75|        USA|Winter|   NA|        4|      2|         2|         0|\n",
      "|  M| 33|   188|    75|        USA|Winter|   NA|        4|      2|         2|         0|\n",
      "|  M| 33|   188|    75|        USA|Winter|   NA|        4|      2|         2|         0|\n",
      "|  M| 33|   188|    75|        USA|Winter|   NA|        4|      2|         2|         0|\n",
      "|  M| 31|   183|    72|        USA|Winter|   NA|        4|      2|         2|         0|\n",
      "|  M| 31|   183|    72|        USA|Winter|   NA|        4|      2|         2|         0|\n",
      "|  M| 31|   183|    72|        USA|Winter|   NA|        4|      2|         2|         0|\n",
      "|  M| 31|   183|    72|        USA|Winter|   NA|        4|      2|         2|         0|\n",
      "+---+---+------+------+-----------+------+-----+---------+-------+----------+----------+\n",
      "only showing top 20 rows\n",
      "\n"
     ]
    }
   ],
   "source": [
    "#add new feature\n",
    "from pyspark.sql.functions import udf\n",
    "from pyspark.sql.types import StringType\n",
    "binarize= udf(lambda Medal: '1' if Medal != \"NA\" else \"0\")\n",
    "newdf=df_format.withColumn(\"MedalorNot\", binarize(df_format.Medal))\n",
    "newdf.show()"
   ]
  },
  {
   "cell_type": "code",
   "execution_count": 9,
   "metadata": {
    "collapsed": true
   },
   "outputs": [
    {
     "name": "stdout",
     "output_type": "stream",
     "text": [
      "+-----+----------+\n",
      "|Medal|MedalorNot|\n",
      "+-----+----------+\n",
      "| Gold|         1|\n",
      "| Gold|         1|\n",
      "| Gold|         1|\n",
      "| Gold|         1|\n",
      "| Gold|         1|\n",
      "| Gold|         1|\n",
      "| Gold|         1|\n",
      "| Gold|         1|\n",
      "| Gold|         1|\n",
      "| Gold|         1|\n",
      "| Gold|         1|\n",
      "| Gold|         1|\n",
      "| Gold|         1|\n",
      "| Gold|         1|\n",
      "| Gold|         1|\n",
      "| Gold|         1|\n",
      "| Gold|         1|\n",
      "| Gold|         1|\n",
      "| Gold|         1|\n",
      "| Gold|         1|\n",
      "+-----+----------+\n",
      "only showing top 20 rows\n",
      "\n",
      "root\n",
      " |-- Sex: string (nullable = true)\n",
      " |-- Age: string (nullable = true)\n",
      " |-- Height: string (nullable = true)\n",
      " |-- Weight: string (nullable = true)\n",
      " |-- region: string (nullable = true)\n",
      " |-- Season: string (nullable = true)\n",
      " |-- Medal: string (nullable = true)\n",
      " |-- MedalCode: string (nullable = true)\n",
      " |-- SexCode: string (nullable = true)\n",
      " |-- SeasonCode: integer (nullable = true)\n",
      " |-- MedalorNot: string (nullable = true)\n",
      "\n"
     ]
    }
   ],
   "source": [
    "newdf.filter('Medal=\"Gold\"').select(\"Medal\",\"MedalorNot\").show()\n",
    "newdf.printSchema()"
   ]
  },
  {
   "cell_type": "code",
   "execution_count": 9,
   "metadata": {
    "scrolled": true
   },
   "outputs": [
    {
     "name": "stdout",
     "output_type": "stream",
     "text": [
      "root\n",
      " |-- Sex: string (nullable = true)\n",
      " |-- Age: integer (nullable = true)\n",
      " |-- Height: integer (nullable = true)\n",
      " |-- Weight: integer (nullable = true)\n",
      " |-- region: string (nullable = true)\n",
      " |-- Season: string (nullable = true)\n",
      " |-- Medal: string (nullable = true)\n",
      " |-- MedalCode: string (nullable = true)\n",
      " |-- SexCode: string (nullable = true)\n",
      " |-- SeasonCode: integer (nullable = true)\n",
      " |-- MedalorNot: string (nullable = true)\n",
      "\n"
     ]
    }
   ],
   "source": [
    "from pyspark.sql.types import IntegerType\n",
    "newdf = newdf.withColumn(\"Age\", newdf[\"Age\"].cast(IntegerType()))\n",
    "newdf = newdf.withColumn(\"Height\", newdf[\"Height\"].cast(IntegerType()))\n",
    "newdf = newdf.withColumn(\"Weight\", newdf[\"Weight\"].cast(IntegerType()))\n",
    "newdf.printSchema()"
   ]
  },
  {
   "cell_type": "code",
   "execution_count": 10,
   "metadata": {},
   "outputs": [],
   "source": [
    "from pyspark.ml.classification import LogisticRegression"
   ]
  },
  {
   "cell_type": "code",
   "execution_count": 11,
   "metadata": {},
   "outputs": [
    {
     "data": {
      "text/html": [
       "<div>\n",
       "<style scoped>\n",
       "    .dataframe tbody tr th:only-of-type {\n",
       "        vertical-align: middle;\n",
       "    }\n",
       "\n",
       "    .dataframe tbody tr th {\n",
       "        vertical-align: top;\n",
       "    }\n",
       "\n",
       "    .dataframe thead th {\n",
       "        text-align: right;\n",
       "    }\n",
       "</style>\n",
       "<table border=\"1\" class=\"dataframe\">\n",
       "  <thead>\n",
       "    <tr style=\"text-align: right;\">\n",
       "      <th></th>\n",
       "      <th>Sex</th>\n",
       "      <th>Age</th>\n",
       "      <th>Height</th>\n",
       "      <th>Weight</th>\n",
       "      <th>region</th>\n",
       "      <th>Season</th>\n",
       "      <th>Medal</th>\n",
       "      <th>MedalCode</th>\n",
       "      <th>SexCode</th>\n",
       "      <th>SeasonCode</th>\n",
       "      <th>MedalorNot</th>\n",
       "    </tr>\n",
       "  </thead>\n",
       "  <tbody>\n",
       "    <tr>\n",
       "      <th>0</th>\n",
       "      <td>M</td>\n",
       "      <td>24</td>\n",
       "      <td>180</td>\n",
       "      <td>80</td>\n",
       "      <td>China</td>\n",
       "      <td>Summer</td>\n",
       "      <td>NA</td>\n",
       "      <td>4</td>\n",
       "      <td>2</td>\n",
       "      <td>1</td>\n",
       "      <td>0</td>\n",
       "    </tr>\n",
       "    <tr>\n",
       "      <th>1</th>\n",
       "      <td>M</td>\n",
       "      <td>23</td>\n",
       "      <td>170</td>\n",
       "      <td>60</td>\n",
       "      <td>China</td>\n",
       "      <td>Summer</td>\n",
       "      <td>NA</td>\n",
       "      <td>4</td>\n",
       "      <td>2</td>\n",
       "      <td>1</td>\n",
       "      <td>0</td>\n",
       "    </tr>\n",
       "    <tr>\n",
       "      <th>2</th>\n",
       "      <td>F</td>\n",
       "      <td>21</td>\n",
       "      <td>185</td>\n",
       "      <td>82</td>\n",
       "      <td>Netherlands</td>\n",
       "      <td>Winter</td>\n",
       "      <td>NA</td>\n",
       "      <td>4</td>\n",
       "      <td>1</td>\n",
       "      <td>2</td>\n",
       "      <td>0</td>\n",
       "    </tr>\n",
       "    <tr>\n",
       "      <th>3</th>\n",
       "      <td>F</td>\n",
       "      <td>21</td>\n",
       "      <td>185</td>\n",
       "      <td>82</td>\n",
       "      <td>Netherlands</td>\n",
       "      <td>Winter</td>\n",
       "      <td>NA</td>\n",
       "      <td>4</td>\n",
       "      <td>1</td>\n",
       "      <td>2</td>\n",
       "      <td>0</td>\n",
       "    </tr>\n",
       "    <tr>\n",
       "      <th>4</th>\n",
       "      <td>F</td>\n",
       "      <td>25</td>\n",
       "      <td>185</td>\n",
       "      <td>82</td>\n",
       "      <td>Netherlands</td>\n",
       "      <td>Winter</td>\n",
       "      <td>NA</td>\n",
       "      <td>4</td>\n",
       "      <td>1</td>\n",
       "      <td>2</td>\n",
       "      <td>0</td>\n",
       "    </tr>\n",
       "  </tbody>\n",
       "</table>\n",
       "</div>"
      ],
      "text/plain": [
       "  Sex  Age  Height  Weight       region  Season Medal MedalCode SexCode  \\\n",
       "0   M   24     180      80        China  Summer    NA         4       2   \n",
       "1   M   23     170      60        China  Summer    NA         4       2   \n",
       "2   F   21     185      82  Netherlands  Winter    NA         4       1   \n",
       "3   F   21     185      82  Netherlands  Winter    NA         4       1   \n",
       "4   F   25     185      82  Netherlands  Winter    NA         4       1   \n",
       "\n",
       "   SeasonCode MedalorNot  \n",
       "0           1          0  \n",
       "1           1          0  \n",
       "2           2          0  \n",
       "3           2          0  \n",
       "4           2          0  "
      ]
     },
     "execution_count": 11,
     "metadata": {},
     "output_type": "execute_result"
    }
   ],
   "source": [
    "#import Pandas\n",
    "import pandas as pd\n",
    "pd.DataFrame(newdf.take(5), columns=newdf.columns)"
   ]
  },
  {
   "cell_type": "code",
   "execution_count": 12,
   "metadata": {},
   "outputs": [
    {
     "data": {
      "text/html": [
       "<div>\n",
       "<style scoped>\n",
       "    .dataframe tbody tr th:only-of-type {\n",
       "        vertical-align: middle;\n",
       "    }\n",
       "\n",
       "    .dataframe tbody tr th {\n",
       "        vertical-align: top;\n",
       "    }\n",
       "\n",
       "    .dataframe thead th {\n",
       "        text-align: right;\n",
       "    }\n",
       "</style>\n",
       "<table border=\"1\" class=\"dataframe\">\n",
       "  <thead>\n",
       "    <tr style=\"text-align: right;\">\n",
       "      <th></th>\n",
       "      <th>Medal</th>\n",
       "      <th>count</th>\n",
       "    </tr>\n",
       "  </thead>\n",
       "  <tbody>\n",
       "    <tr>\n",
       "      <th>0</th>\n",
       "      <td>NA</td>\n",
       "      <td>175420</td>\n",
       "    </tr>\n",
       "    <tr>\n",
       "      <th>1</th>\n",
       "      <td>Silver</td>\n",
       "      <td>9826</td>\n",
       "    </tr>\n",
       "    <tr>\n",
       "      <th>2</th>\n",
       "      <td>Gold</td>\n",
       "      <td>10081</td>\n",
       "    </tr>\n",
       "    <tr>\n",
       "      <th>3</th>\n",
       "      <td>Bronze</td>\n",
       "      <td>10107</td>\n",
       "    </tr>\n",
       "  </tbody>\n",
       "</table>\n",
       "</div>"
      ],
      "text/plain": [
       "    Medal   count\n",
       "0      NA  175420\n",
       "1  Silver    9826\n",
       "2    Gold   10081\n",
       "3  Bronze   10107"
      ]
     },
     "execution_count": 12,
     "metadata": {},
     "output_type": "execute_result"
    }
   ],
   "source": [
    "newdf.groupby('Medal').count().toPandas()"
   ]
  },
  {
   "cell_type": "code",
   "execution_count": 23,
   "metadata": {
    "collapsed": true
   },
   "outputs": [
    {
     "data": {
      "text/html": [
       "<div>\n",
       "<style scoped>\n",
       "    .dataframe tbody tr th:only-of-type {\n",
       "        vertical-align: middle;\n",
       "    }\n",
       "\n",
       "    .dataframe tbody tr th {\n",
       "        vertical-align: top;\n",
       "    }\n",
       "\n",
       "    .dataframe thead th {\n",
       "        text-align: right;\n",
       "    }\n",
       "</style>\n",
       "<table border=\"1\" class=\"dataframe\">\n",
       "  <thead>\n",
       "    <tr style=\"text-align: right;\">\n",
       "      <th></th>\n",
       "      <th>MedalorNot</th>\n",
       "      <th>count</th>\n",
       "    </tr>\n",
       "  </thead>\n",
       "  <tbody>\n",
       "    <tr>\n",
       "      <th>0</th>\n",
       "      <td>0</td>\n",
       "      <td>175420</td>\n",
       "    </tr>\n",
       "    <tr>\n",
       "      <th>1</th>\n",
       "      <td>1</td>\n",
       "      <td>30014</td>\n",
       "    </tr>\n",
       "  </tbody>\n",
       "</table>\n",
       "</div>"
      ],
      "text/plain": [
       "  MedalorNot   count\n",
       "0          0  175420\n",
       "1          1   30014"
      ]
     },
     "execution_count": 23,
     "metadata": {},
     "output_type": "execute_result"
    }
   ],
   "source": [
    "newdf.groupby('MedalorNot').count().toPandas()"
   ]
  },
  {
   "cell_type": "code",
   "execution_count": 13,
   "metadata": {},
   "outputs": [],
   "source": [
    "from pyspark.ml.feature import (VectorAssembler,VectorIndexer,OneHotEncoder,StringIndexer)\n",
    "\n",
    "#Convert each string into a number\n",
    "Gender_indexer = StringIndexer(inputCol='SexCode',outputCol='GenderIndex')\n",
    "Season_indexer = StringIndexer(inputCol='SeasonCode',outputCol='SeasonIndex')\n",
    "Medal_indexer = StringIndexer(inputCol='MedalorNot',outputCol='label')\n",
    "\n",
    "# Convert various outputs into a single vector.\n",
    "Gender_encoder = OneHotEncoder(inputCol='GenderIndex',outputCol='GenderVec')\n",
    "Season_encoder = OneHotEncoder(inputCol='SeasonIndex',outputCol='SeasonVec')\n",
    "\n",
    "# Turn all columns into one column.\n",
    "assembler = VectorAssembler(inputCols=['GenderVec','SeasonVec', 'Age', 'Height', 'Weight'], \n",
    "                            outputCol=\"features\")"
   ]
  },
  {
   "cell_type": "code",
   "execution_count": 14,
   "metadata": {},
   "outputs": [
    {
     "name": "stdout",
     "output_type": "stream",
     "text": [
      "root\n",
      " |-- label: double (nullable = true)\n",
      " |-- features: vector (nullable = true)\n",
      "\n"
     ]
    }
   ],
   "source": [
    "from pyspark.ml import Pipeline\n",
    "pipeline = Pipeline(stages=[Gender_indexer, Season_indexer, Medal_indexer, Gender_encoder, Season_encoder,  assembler])\n",
    "pipeline_model = pipeline.fit(newdf)\n",
    "pipe_df = pipeline_model.transform(newdf)\n",
    "pipe_df = pipe_df.select('label', 'features')\n",
    "pipe_df.printSchema()"
   ]
  },
  {
   "cell_type": "code",
   "execution_count": 20,
   "metadata": {},
   "outputs": [
    {
     "name": "stderr",
     "output_type": "stream",
     "text": [
      "ERROR:py4j.java_gateway:An error occurred while trying to connect to the Java server (127.0.0.1:42761)\n",
      "Traceback (most recent call last):\n",
      "  File \"/home/ubuntu/spark-2.1.1-bin-hadoop2.7/python/lib/py4j-0.10.4-src.zip/py4j/java_gateway.py\", line 827, in _get_connection\n",
      "    connection = self.deque.pop()\n",
      "IndexError: pop from an empty deque\n",
      "\n",
      "During handling of the above exception, another exception occurred:\n",
      "\n",
      "Traceback (most recent call last):\n",
      "  File \"/home/ubuntu/spark-2.1.1-bin-hadoop2.7/python/lib/py4j-0.10.4-src.zip/py4j/java_gateway.py\", line 963, in start\n",
      "    self.socket.connect((self.address, self.port))\n",
      "ConnectionRefusedError: [Errno 111] Connection refused\n"
     ]
    },
    {
     "ename": "Py4JNetworkError",
     "evalue": "An error occurred while trying to connect to the Java server (127.0.0.1:42761)",
     "output_type": "error",
     "traceback": [
      "\u001b[0;31m---------------------------------------------------------------------------\u001b[0m",
      "\u001b[0;31mIndexError\u001b[0m                                Traceback (most recent call last)",
      "\u001b[0;32m~/spark-2.1.1-bin-hadoop2.7/python/lib/py4j-0.10.4-src.zip/py4j/java_gateway.py\u001b[0m in \u001b[0;36m_get_connection\u001b[0;34m(self)\u001b[0m\n\u001b[1;32m    826\u001b[0m         \u001b[0;32mtry\u001b[0m\u001b[0;34m:\u001b[0m\u001b[0;34m\u001b[0m\u001b[0m\n\u001b[0;32m--> 827\u001b[0;31m             \u001b[0mconnection\u001b[0m \u001b[0;34m=\u001b[0m \u001b[0mself\u001b[0m\u001b[0;34m.\u001b[0m\u001b[0mdeque\u001b[0m\u001b[0;34m.\u001b[0m\u001b[0mpop\u001b[0m\u001b[0;34m(\u001b[0m\u001b[0;34m)\u001b[0m\u001b[0;34m\u001b[0m\u001b[0m\n\u001b[0m\u001b[1;32m    828\u001b[0m         \u001b[0;32mexcept\u001b[0m \u001b[0mIndexError\u001b[0m\u001b[0;34m:\u001b[0m\u001b[0;34m\u001b[0m\u001b[0m\n",
      "\u001b[0;31mIndexError\u001b[0m: pop from an empty deque",
      "\nDuring handling of the above exception, another exception occurred:\n",
      "\u001b[0;31mConnectionRefusedError\u001b[0m                    Traceback (most recent call last)",
      "\u001b[0;32m~/spark-2.1.1-bin-hadoop2.7/python/lib/py4j-0.10.4-src.zip/py4j/java_gateway.py\u001b[0m in \u001b[0;36mstart\u001b[0;34m(self)\u001b[0m\n\u001b[1;32m    962\u001b[0m         \u001b[0;32mtry\u001b[0m\u001b[0;34m:\u001b[0m\u001b[0;34m\u001b[0m\u001b[0m\n\u001b[0;32m--> 963\u001b[0;31m             \u001b[0mself\u001b[0m\u001b[0;34m.\u001b[0m\u001b[0msocket\u001b[0m\u001b[0;34m.\u001b[0m\u001b[0mconnect\u001b[0m\u001b[0;34m(\u001b[0m\u001b[0;34m(\u001b[0m\u001b[0mself\u001b[0m\u001b[0;34m.\u001b[0m\u001b[0maddress\u001b[0m\u001b[0;34m,\u001b[0m \u001b[0mself\u001b[0m\u001b[0;34m.\u001b[0m\u001b[0mport\u001b[0m\u001b[0;34m)\u001b[0m\u001b[0;34m)\u001b[0m\u001b[0;34m\u001b[0m\u001b[0m\n\u001b[0m\u001b[1;32m    964\u001b[0m             \u001b[0mself\u001b[0m\u001b[0;34m.\u001b[0m\u001b[0mis_connected\u001b[0m \u001b[0;34m=\u001b[0m \u001b[0;32mTrue\u001b[0m\u001b[0;34m\u001b[0m\u001b[0m\n",
      "\u001b[0;31mConnectionRefusedError\u001b[0m: [Errno 111] Connection refused",
      "\nDuring handling of the above exception, another exception occurred:\n",
      "\u001b[0;31mPy4JNetworkError\u001b[0m                          Traceback (most recent call last)",
      "\u001b[0;32m<ipython-input-20-fdaa06e51e00>\u001b[0m in \u001b[0;36m<module>\u001b[0;34m()\u001b[0m\n\u001b[1;32m      2\u001b[0m \u001b[0;34m\u001b[0m\u001b[0m\n\u001b[1;32m      3\u001b[0m \u001b[0;31m# Split data into 0.6:0.4.\u001b[0m\u001b[0;34m\u001b[0m\u001b[0;34m\u001b[0m\u001b[0m\n\u001b[0;32m----> 4\u001b[0;31m \u001b[0mtrain_data\u001b[0m\u001b[0;34m,\u001b[0m \u001b[0mtest_data\u001b[0m \u001b[0;34m=\u001b[0m \u001b[0mpipe_df\u001b[0m\u001b[0;34m.\u001b[0m\u001b[0mrandomSplit\u001b[0m\u001b[0;34m(\u001b[0m\u001b[0;34m[\u001b[0m\u001b[0;36m0.6\u001b[0m\u001b[0;34m,\u001b[0m\u001b[0;36m0.4\u001b[0m\u001b[0;34m]\u001b[0m\u001b[0;34m)\u001b[0m\u001b[0;34m\u001b[0m\u001b[0m\n\u001b[0m\u001b[1;32m      5\u001b[0m \u001b[0mprint\u001b[0m\u001b[0;34m(\u001b[0m\u001b[0;34m\"Training Dataset Count: \"\u001b[0m \u001b[0;34m+\u001b[0m \u001b[0mstr\u001b[0m\u001b[0;34m(\u001b[0m\u001b[0mtrain_data\u001b[0m\u001b[0;34m.\u001b[0m\u001b[0mcount\u001b[0m\u001b[0;34m(\u001b[0m\u001b[0;34m)\u001b[0m\u001b[0;34m)\u001b[0m\u001b[0;34m)\u001b[0m\u001b[0;34m\u001b[0m\u001b[0m\n\u001b[1;32m      6\u001b[0m \u001b[0mprint\u001b[0m\u001b[0;34m(\u001b[0m\u001b[0;34m\"Test Dataset Count: \"\u001b[0m \u001b[0;34m+\u001b[0m \u001b[0mstr\u001b[0m\u001b[0;34m(\u001b[0m\u001b[0mtest_data\u001b[0m\u001b[0;34m.\u001b[0m\u001b[0mcount\u001b[0m\u001b[0;34m(\u001b[0m\u001b[0;34m)\u001b[0m\u001b[0;34m)\u001b[0m\u001b[0;34m)\u001b[0m\u001b[0;34m\u001b[0m\u001b[0m\n",
      "\u001b[0;32m~/spark-2.1.1-bin-hadoop2.7/python/pyspark/sql/dataframe.py\u001b[0m in \u001b[0;36mrandomSplit\u001b[0;34m(self, weights, seed)\u001b[0m\n\u001b[1;32m    672\u001b[0m                 \u001b[0;32mraise\u001b[0m \u001b[0mValueError\u001b[0m\u001b[0;34m(\u001b[0m\u001b[0;34m\"Weights must be positive. Found weight value: %s\"\u001b[0m \u001b[0;34m%\u001b[0m \u001b[0mw\u001b[0m\u001b[0;34m)\u001b[0m\u001b[0;34m\u001b[0m\u001b[0m\n\u001b[1;32m    673\u001b[0m         \u001b[0mseed\u001b[0m \u001b[0;34m=\u001b[0m \u001b[0mseed\u001b[0m \u001b[0;32mif\u001b[0m \u001b[0mseed\u001b[0m \u001b[0;32mis\u001b[0m \u001b[0;32mnot\u001b[0m \u001b[0;32mNone\u001b[0m \u001b[0;32melse\u001b[0m \u001b[0mrandom\u001b[0m\u001b[0;34m.\u001b[0m\u001b[0mrandint\u001b[0m\u001b[0;34m(\u001b[0m\u001b[0;36m0\u001b[0m\u001b[0;34m,\u001b[0m \u001b[0msys\u001b[0m\u001b[0;34m.\u001b[0m\u001b[0mmaxsize\u001b[0m\u001b[0;34m)\u001b[0m\u001b[0;34m\u001b[0m\u001b[0m\n\u001b[0;32m--> 674\u001b[0;31m         \u001b[0mrdd_array\u001b[0m \u001b[0;34m=\u001b[0m \u001b[0mself\u001b[0m\u001b[0;34m.\u001b[0m\u001b[0m_jdf\u001b[0m\u001b[0;34m.\u001b[0m\u001b[0mrandomSplit\u001b[0m\u001b[0;34m(\u001b[0m\u001b[0m_to_list\u001b[0m\u001b[0;34m(\u001b[0m\u001b[0mself\u001b[0m\u001b[0;34m.\u001b[0m\u001b[0msql_ctx\u001b[0m\u001b[0;34m.\u001b[0m\u001b[0m_sc\u001b[0m\u001b[0;34m,\u001b[0m \u001b[0mweights\u001b[0m\u001b[0;34m)\u001b[0m\u001b[0;34m,\u001b[0m \u001b[0mlong\u001b[0m\u001b[0;34m(\u001b[0m\u001b[0mseed\u001b[0m\u001b[0;34m)\u001b[0m\u001b[0;34m)\u001b[0m\u001b[0;34m\u001b[0m\u001b[0m\n\u001b[0m\u001b[1;32m    675\u001b[0m         \u001b[0;32mreturn\u001b[0m \u001b[0;34m[\u001b[0m\u001b[0mDataFrame\u001b[0m\u001b[0;34m(\u001b[0m\u001b[0mrdd\u001b[0m\u001b[0;34m,\u001b[0m \u001b[0mself\u001b[0m\u001b[0;34m.\u001b[0m\u001b[0msql_ctx\u001b[0m\u001b[0;34m)\u001b[0m \u001b[0;32mfor\u001b[0m \u001b[0mrdd\u001b[0m \u001b[0;32min\u001b[0m \u001b[0mrdd_array\u001b[0m\u001b[0;34m]\u001b[0m\u001b[0;34m\u001b[0m\u001b[0m\n\u001b[1;32m    676\u001b[0m \u001b[0;34m\u001b[0m\u001b[0m\n",
      "\u001b[0;32m~/spark-2.1.1-bin-hadoop2.7/python/pyspark/sql/column.py\u001b[0m in \u001b[0;36m_to_list\u001b[0;34m(sc, cols, converter)\u001b[0m\n\u001b[1;32m     70\u001b[0m     \u001b[0;32mif\u001b[0m \u001b[0mconverter\u001b[0m\u001b[0;34m:\u001b[0m\u001b[0;34m\u001b[0m\u001b[0m\n\u001b[1;32m     71\u001b[0m         \u001b[0mcols\u001b[0m \u001b[0;34m=\u001b[0m \u001b[0;34m[\u001b[0m\u001b[0mconverter\u001b[0m\u001b[0;34m(\u001b[0m\u001b[0mc\u001b[0m\u001b[0;34m)\u001b[0m \u001b[0;32mfor\u001b[0m \u001b[0mc\u001b[0m \u001b[0;32min\u001b[0m \u001b[0mcols\u001b[0m\u001b[0;34m]\u001b[0m\u001b[0;34m\u001b[0m\u001b[0m\n\u001b[0;32m---> 72\u001b[0;31m     \u001b[0;32mreturn\u001b[0m \u001b[0msc\u001b[0m\u001b[0;34m.\u001b[0m\u001b[0m_jvm\u001b[0m\u001b[0;34m.\u001b[0m\u001b[0mPythonUtils\u001b[0m\u001b[0;34m.\u001b[0m\u001b[0mtoList\u001b[0m\u001b[0;34m(\u001b[0m\u001b[0mcols\u001b[0m\u001b[0;34m)\u001b[0m\u001b[0;34m\u001b[0m\u001b[0m\n\u001b[0m\u001b[1;32m     73\u001b[0m \u001b[0;34m\u001b[0m\u001b[0m\n\u001b[1;32m     74\u001b[0m \u001b[0;34m\u001b[0m\u001b[0m\n",
      "\u001b[0;32m~/spark-2.1.1-bin-hadoop2.7/python/lib/py4j-0.10.4-src.zip/py4j/java_gateway.py\u001b[0m in \u001b[0;36m__getattr__\u001b[0;34m(self, name)\u001b[0m\n\u001b[1;32m   1523\u001b[0m             \u001b[0mproto\u001b[0m\u001b[0;34m.\u001b[0m\u001b[0mREFLECTION_COMMAND_NAME\u001b[0m \u001b[0;34m+\u001b[0m\u001b[0;34m\u001b[0m\u001b[0m\n\u001b[1;32m   1524\u001b[0m             \u001b[0mproto\u001b[0m\u001b[0;34m.\u001b[0m\u001b[0mREFL_GET_UNKNOWN_SUB_COMMAND_NAME\u001b[0m \u001b[0;34m+\u001b[0m \u001b[0mname\u001b[0m \u001b[0;34m+\u001b[0m \u001b[0;34m\"\\n\"\u001b[0m \u001b[0;34m+\u001b[0m \u001b[0mself\u001b[0m\u001b[0;34m.\u001b[0m\u001b[0m_id\u001b[0m \u001b[0;34m+\u001b[0m\u001b[0;34m\u001b[0m\u001b[0m\n\u001b[0;32m-> 1525\u001b[0;31m             \"\\n\" + proto.END_COMMAND_PART)\n\u001b[0m\u001b[1;32m   1526\u001b[0m         \u001b[0;32mif\u001b[0m \u001b[0manswer\u001b[0m \u001b[0;34m==\u001b[0m \u001b[0mproto\u001b[0m\u001b[0;34m.\u001b[0m\u001b[0mSUCCESS_PACKAGE\u001b[0m\u001b[0;34m:\u001b[0m\u001b[0;34m\u001b[0m\u001b[0m\n\u001b[1;32m   1527\u001b[0m             \u001b[0;32mreturn\u001b[0m \u001b[0mJavaPackage\u001b[0m\u001b[0;34m(\u001b[0m\u001b[0mname\u001b[0m\u001b[0;34m,\u001b[0m \u001b[0mself\u001b[0m\u001b[0;34m.\u001b[0m\u001b[0m_gateway_client\u001b[0m\u001b[0;34m,\u001b[0m \u001b[0mjvm_id\u001b[0m\u001b[0;34m=\u001b[0m\u001b[0mself\u001b[0m\u001b[0;34m.\u001b[0m\u001b[0m_id\u001b[0m\u001b[0;34m)\u001b[0m\u001b[0;34m\u001b[0m\u001b[0m\n",
      "\u001b[0;32m~/spark-2.1.1-bin-hadoop2.7/python/lib/py4j-0.10.4-src.zip/py4j/java_gateway.py\u001b[0m in \u001b[0;36msend_command\u001b[0;34m(self, command, retry, binary)\u001b[0m\n\u001b[1;32m    879\u001b[0m          \u001b[0;32mif\u001b[0m\u001b[0;31m \u001b[0m\u001b[0;31m`\u001b[0m\u001b[0mbinary\u001b[0m\u001b[0;31m`\u001b[0m \u001b[0;32mis\u001b[0m\u001b[0;31m \u001b[0m\u001b[0;31m`\u001b[0m\u001b[0;32mTrue\u001b[0m\u001b[0;31m`\u001b[0m\u001b[0;34m.\u001b[0m\u001b[0;34m\u001b[0m\u001b[0m\n\u001b[1;32m    880\u001b[0m         \"\"\"\n\u001b[0;32m--> 881\u001b[0;31m         \u001b[0mconnection\u001b[0m \u001b[0;34m=\u001b[0m \u001b[0mself\u001b[0m\u001b[0;34m.\u001b[0m\u001b[0m_get_connection\u001b[0m\u001b[0;34m(\u001b[0m\u001b[0;34m)\u001b[0m\u001b[0;34m\u001b[0m\u001b[0m\n\u001b[0m\u001b[1;32m    882\u001b[0m         \u001b[0;32mtry\u001b[0m\u001b[0;34m:\u001b[0m\u001b[0;34m\u001b[0m\u001b[0m\n\u001b[1;32m    883\u001b[0m             \u001b[0mresponse\u001b[0m \u001b[0;34m=\u001b[0m \u001b[0mconnection\u001b[0m\u001b[0;34m.\u001b[0m\u001b[0msend_command\u001b[0m\u001b[0;34m(\u001b[0m\u001b[0mcommand\u001b[0m\u001b[0;34m)\u001b[0m\u001b[0;34m\u001b[0m\u001b[0m\n",
      "\u001b[0;32m~/spark-2.1.1-bin-hadoop2.7/python/lib/py4j-0.10.4-src.zip/py4j/java_gateway.py\u001b[0m in \u001b[0;36m_get_connection\u001b[0;34m(self)\u001b[0m\n\u001b[1;32m    827\u001b[0m             \u001b[0mconnection\u001b[0m \u001b[0;34m=\u001b[0m \u001b[0mself\u001b[0m\u001b[0;34m.\u001b[0m\u001b[0mdeque\u001b[0m\u001b[0;34m.\u001b[0m\u001b[0mpop\u001b[0m\u001b[0;34m(\u001b[0m\u001b[0;34m)\u001b[0m\u001b[0;34m\u001b[0m\u001b[0m\n\u001b[1;32m    828\u001b[0m         \u001b[0;32mexcept\u001b[0m \u001b[0mIndexError\u001b[0m\u001b[0;34m:\u001b[0m\u001b[0;34m\u001b[0m\u001b[0m\n\u001b[0;32m--> 829\u001b[0;31m             \u001b[0mconnection\u001b[0m \u001b[0;34m=\u001b[0m \u001b[0mself\u001b[0m\u001b[0;34m.\u001b[0m\u001b[0m_create_connection\u001b[0m\u001b[0;34m(\u001b[0m\u001b[0;34m)\u001b[0m\u001b[0;34m\u001b[0m\u001b[0m\n\u001b[0m\u001b[1;32m    830\u001b[0m         \u001b[0;32mreturn\u001b[0m \u001b[0mconnection\u001b[0m\u001b[0;34m\u001b[0m\u001b[0m\n\u001b[1;32m    831\u001b[0m \u001b[0;34m\u001b[0m\u001b[0m\n",
      "\u001b[0;32m~/spark-2.1.1-bin-hadoop2.7/python/lib/py4j-0.10.4-src.zip/py4j/java_gateway.py\u001b[0m in \u001b[0;36m_create_connection\u001b[0;34m(self)\u001b[0m\n\u001b[1;32m    833\u001b[0m         connection = GatewayConnection(\n\u001b[1;32m    834\u001b[0m             self.gateway_parameters, self.gateway_property)\n\u001b[0;32m--> 835\u001b[0;31m         \u001b[0mconnection\u001b[0m\u001b[0;34m.\u001b[0m\u001b[0mstart\u001b[0m\u001b[0;34m(\u001b[0m\u001b[0;34m)\u001b[0m\u001b[0;34m\u001b[0m\u001b[0m\n\u001b[0m\u001b[1;32m    836\u001b[0m         \u001b[0;32mreturn\u001b[0m \u001b[0mconnection\u001b[0m\u001b[0;34m\u001b[0m\u001b[0m\n\u001b[1;32m    837\u001b[0m \u001b[0;34m\u001b[0m\u001b[0m\n",
      "\u001b[0;32m~/spark-2.1.1-bin-hadoop2.7/python/lib/py4j-0.10.4-src.zip/py4j/java_gateway.py\u001b[0m in \u001b[0;36mstart\u001b[0;34m(self)\u001b[0m\n\u001b[1;32m    968\u001b[0m                 \u001b[0;34m\"server ({0}:{1})\"\u001b[0m\u001b[0;34m.\u001b[0m\u001b[0mformat\u001b[0m\u001b[0;34m(\u001b[0m\u001b[0mself\u001b[0m\u001b[0;34m.\u001b[0m\u001b[0maddress\u001b[0m\u001b[0;34m,\u001b[0m \u001b[0mself\u001b[0m\u001b[0;34m.\u001b[0m\u001b[0mport\u001b[0m\u001b[0;34m)\u001b[0m\u001b[0;34m\u001b[0m\u001b[0m\n\u001b[1;32m    969\u001b[0m             \u001b[0mlogger\u001b[0m\u001b[0;34m.\u001b[0m\u001b[0mexception\u001b[0m\u001b[0;34m(\u001b[0m\u001b[0mmsg\u001b[0m\u001b[0;34m)\u001b[0m\u001b[0;34m\u001b[0m\u001b[0m\n\u001b[0;32m--> 970\u001b[0;31m             \u001b[0;32mraise\u001b[0m \u001b[0mPy4JNetworkError\u001b[0m\u001b[0;34m(\u001b[0m\u001b[0mmsg\u001b[0m\u001b[0;34m,\u001b[0m \u001b[0me\u001b[0m\u001b[0;34m)\u001b[0m\u001b[0;34m\u001b[0m\u001b[0m\n\u001b[0m\u001b[1;32m    971\u001b[0m \u001b[0;34m\u001b[0m\u001b[0m\n\u001b[1;32m    972\u001b[0m     \u001b[0;32mdef\u001b[0m \u001b[0mclose\u001b[0m\u001b[0;34m(\u001b[0m\u001b[0mself\u001b[0m\u001b[0;34m,\u001b[0m \u001b[0mreset\u001b[0m\u001b[0;34m=\u001b[0m\u001b[0;32mFalse\u001b[0m\u001b[0;34m)\u001b[0m\u001b[0;34m:\u001b[0m\u001b[0;34m\u001b[0m\u001b[0m\n",
      "\u001b[0;31mPy4JNetworkError\u001b[0m: An error occurred while trying to connect to the Java server (127.0.0.1:42761)"
     ]
    }
   ],
   "source": [
    "from pyspark.ml.classification import LogisticRegression\n",
    "\n",
    "# Split data into 0.6:0.4.\n",
    "train_data, test_data = pipe_df.randomSplit([0.6,0.4])\n",
    "print(\"Training Dataset Count: \" + str(train_data.count()))\n",
    "print(\"Test Dataset Count: \" + str(test_data.count()))\n",
    "lr_model = LogisticRegression(featuresCol='features',labelCol='label')\n",
    "lr_model = lr_model.fit(train_data)\n",
    "\n",
    "# Evaluate the model.\n",
    "results = lr_model.transform(test_data)"
   ]
  },
  {
   "cell_type": "code",
   "execution_count": null,
   "metadata": {},
   "outputs": [],
   "source": [
    "import matplotlib.pyplot as plt\n",
    "import numpy as np\n",
    "beta = np.sort(lr_model.coefficients)\n",
    "\n",
    "plt.plot(beta)\n",
    "plt.ylabel('Coefficients')\n",
    "plt.show()"
   ]
  },
  {
   "cell_type": "code",
   "execution_count": 19,
   "metadata": {},
   "outputs": [
    {
     "ename": "AttributeError",
     "evalue": "'LogisticRegression' object has no attribute 'summary'",
     "output_type": "error",
     "traceback": [
      "\u001b[0;31m---------------------------------------------------------------------------\u001b[0m",
      "\u001b[0;31mAttributeError\u001b[0m                            Traceback (most recent call last)",
      "\u001b[0;32m<ipython-input-19-5cb8f3676328>\u001b[0m in \u001b[0;36m<module>\u001b[0;34m()\u001b[0m\n\u001b[0;32m----> 1\u001b[0;31m \u001b[0mtraining_summary\u001b[0m \u001b[0;34m=\u001b[0m \u001b[0mlr_model\u001b[0m\u001b[0;34m.\u001b[0m\u001b[0msummary\u001b[0m\u001b[0;34m\u001b[0m\u001b[0m\n\u001b[0m\u001b[1;32m      2\u001b[0m \u001b[0mROC\u001b[0m \u001b[0;34m=\u001b[0m \u001b[0mtraining_summary\u001b[0m\u001b[0;34m.\u001b[0m\u001b[0mroc\u001b[0m\u001b[0;34m.\u001b[0m\u001b[0mtoPandas\u001b[0m\u001b[0;34m(\u001b[0m\u001b[0;34m)\u001b[0m\u001b[0;34m\u001b[0m\u001b[0m\n\u001b[1;32m      3\u001b[0m \u001b[0mplt\u001b[0m\u001b[0;34m.\u001b[0m\u001b[0mplot\u001b[0m\u001b[0;34m(\u001b[0m\u001b[0mROC\u001b[0m\u001b[0;34m[\u001b[0m\u001b[0;34m'FPR'\u001b[0m\u001b[0;34m]\u001b[0m\u001b[0;34m,\u001b[0m\u001b[0mROC\u001b[0m\u001b[0;34m[\u001b[0m\u001b[0;34m'TPR'\u001b[0m\u001b[0;34m]\u001b[0m\u001b[0;34m)\u001b[0m\u001b[0;34m\u001b[0m\u001b[0m\n\u001b[1;32m      4\u001b[0m \u001b[0;34m\u001b[0m\u001b[0m\n\u001b[1;32m      5\u001b[0m \u001b[0mplt\u001b[0m\u001b[0;34m.\u001b[0m\u001b[0mylabel\u001b[0m\u001b[0;34m(\u001b[0m\u001b[0;34m'True Positive Rate'\u001b[0m\u001b[0;34m)\u001b[0m\u001b[0;34m\u001b[0m\u001b[0m\n",
      "\u001b[0;31mAttributeError\u001b[0m: 'LogisticRegression' object has no attribute 'summary'"
     ]
    }
   ],
   "source": [
    "training_summary = lr_model.summary\n",
    "ROC = training_summary.roc.toPandas()\n",
    "plt.plot(ROC['FPR'],ROC['TPR'])\n",
    "\n",
    "plt.ylabel('True Positive Rate')\n",
    "plt.xlabel('False Positive Rate')\n",
    "plt.title('ROC Curve')\n",
    "plt.show()\n",
    "\n",
    "print('Training Set(0.6:0.4) Area Under the Curve: ' + str(training_summary.areaUnderROC))"
   ]
  },
  {
   "cell_type": "code",
   "execution_count": 18,
   "metadata": {},
   "outputs": [
    {
     "data": {
      "image/png": "[encoded data removed]",
      "text/plain": [
       "<Figure size 432x288 with 1 Axes>"
      ]
     },
     "metadata": {},
     "output_type": "display_data"
    }
   ],
   "source": [
    "pr = training_summary.pr.toPandas()\n",
    "plt.plot(pr['recall'],pr['precision'])\n",
    "\n",
    "plt.ylabel('Precision')\n",
    "plt.xlabel('Recall')\n",
    "plt.show()"
   ]
  },
  {
   "cell_type": "code",
   "execution_count": 15,
   "metadata": {},
   "outputs": [
    {
     "name": "stdout",
     "output_type": "stream",
     "text": [
      "Training Dataset Count: 102522\n",
      "Test Dataset Count: 102912\n"
     ]
    }
   ],
   "source": [
    "from pyspark.ml.classification import LogisticRegression\n",
    "\n",
    "# Split data into 0.8:0.2.\n",
    "train_data, test_data = pipe_df.randomSplit([0.5,0.5])\n",
    "print(\"Training Dataset Count: \" + str(train_data.count()))\n",
    "print(\"Test Dataset Count: \" + str(test_data.count()))\n",
    "lr_model = LogisticRegression(featuresCol='features',labelCol='label')\n",
    "lr_model = lr_model.fit(train_data)\n",
    "\n",
    "# Evaluate the model.\n",
    "results = lr_model.transform(test_data)"
   ]
  },
  {
   "cell_type": "code",
   "execution_count": 16,
   "metadata": {},
   "outputs": [
    {
     "data": {
      "text/plain": [
       "<Figure size 640x480 with 1 Axes>"
      ]
     },
     "metadata": {},
     "output_type": "display_data"
    }
   ],
   "source": [
    "import matplotlib.pyplot as plt\n",
    "import numpy as np\n",
    "beta = np.sort(lr_model.coefficients)\n",
    "\n",
    "plt.plot(beta)\n",
    "plt.ylabel('Coefficients')\n",
    "plt.show()"
   ]
  },
  {
   "cell_type": "code",
   "execution_count": 17,
   "metadata": {},
   "outputs": [
    {
     "data": {
      "image/png": "[encoded data removed]",
      "text/plain": [
       "<Figure size 432x288 with 1 Axes>"
      ]
     },
     "metadata": {},
     "output_type": "display_data"
    },
    {
     "name": "stdout",
     "output_type": "stream",
     "text": [
      "Training set(0.5:0.5) Area Under the Curve: 0.6023291799207646\n"
     ]
    }
   ],
   "source": [
    "training_summary = lr_model.summary\n",
    "ROC = training_summary.roc.toPandas()\n",
    "plt.plot(ROC['FPR'],ROC['TPR'])\n",
    "\n",
    "plt.ylabel('True Positive Rate')\n",
    "plt.xlabel('False Positive Rate')\n",
    "plt.title('ROC Curve')\n",
    "plt.show()\n",
    "\n",
    "print('Training set(0.5:0.5) Area Under the Curve: ' + str(training_summary.areaUnderROC))"
   ]
  },
  {
   "cell_type": "code",
   "execution_count": 29,
   "metadata": {},
   "outputs": [
    {
     "data": {
      "image/png": "[encoded data removed]",
      "text/plain": [
       "<Figure size 432x288 with 1 Axes>"
      ]
     },
     "metadata": {},
     "output_type": "display_data"
    }
   ],
   "source": [
    "pr = training_summary.pr.toPandas()\n",
    "plt.plot(pr['recall'],pr['precision'])\n",
    "\n",
    "plt.ylabel('Precision')\n",
    "plt.xlabel('Recall')\n",
    "plt.show()"
   ]
  },
  {
   "cell_type": "code",
   "execution_count": null,
   "metadata": {},
   "outputs": [],
   "source": []
  }
 ],
 "metadata": {
  "kernelspec": {
   "display_name": "Python 3",
   "language": "python",
   "name": "python3"
  },
  "language_info": {
   "codemirror_mode": {
    "name": "ipython",
    "version": 3
   },
   "file_extension": ".py",
   "mimetype": "text/x-python",
   "name": "python",
   "nbconvert_exporter": "python",
   "pygments_lexer": "ipython3",
   "version": "3.5.2"
  }
 },
 "nbformat": 4,
 "nbformat_minor": 2
}
